{
 "cells": [
  {
   "cell_type": "markdown",
   "metadata": {},
   "source": [
    "# Assignment 3"
   ]
  },
  {
   "cell_type": "code",
   "execution_count": 1,
   "metadata": {},
   "outputs": [],
   "source": [
    "import numpy as np\n",
    "import matplotlib.pyplot as plt\n",
    "import csv\n",
    "from matplotlib.backends.backend_pdf import PdfPages\n",
    "from numpy.linalg import norm"
   ]
  },
  {
   "cell_type": "code",
   "execution_count": 2,
   "metadata": {},
   "outputs": [],
   "source": [
    "import pandas as pd\n",
    "from sklearn.model_selection import train_test_split\n",
    "from sklearn.utils import shuffle\n",
    "from sklearn import preprocessing"
   ]
  },
  {
   "cell_type": "markdown",
   "metadata": {},
   "source": [
    "My Roll Number is 170120\n",
    "Hence, value of R is 0"
   ]
  },
  {
   "cell_type": "code",
   "execution_count": 3,
   "metadata": {},
   "outputs": [],
   "source": [
    "omega = 2*np.pi*2\n",
    "tfinal = 1\n",
    "sample_freq = 128\n",
    "Ts = 1/sample_freq\n",
    "\n",
    "#We have to create two arrrays, one for x axis(n) and other for y axis(sampled_angle).\n"
   ]
  },
  {
   "cell_type": "code",
   "execution_count": 4,
   "metadata": {},
   "outputs": [],
   "source": [
    "def angle(omega,t):\n",
    "    return (omega*t)%np.pi"
   ]
  },
  {
   "cell_type": "code",
   "execution_count": 5,
   "metadata": {},
   "outputs": [
    {
     "name": "stdout",
     "output_type": "stream",
     "text": [
      "Test passed 👍\n"
     ]
    }
   ],
   "source": [
    "def test_angle():\n",
    "    x = angle(2*np.pi, 2)\n",
    "    assert x==0                # assert that your method returns the correct answer.\n",
    "                               # If not, this statement will give an assertion error.\n",
    "    print('Test passed', '\\U0001F44D')\n",
    "    \n",
    "# Please do not call any function without using \"if __name__==\"__main__\":\" statement. \n",
    "# Otherwise, it will be difficult for the TAs to compile\n",
    "if __name__==\"__main__\":\n",
    "    test_angle()"
   ]
  },
  {
   "cell_type": "code",
   "execution_count": 6,
   "metadata": {},
   "outputs": [],
   "source": [
    "def sampled_angle(omega,sampling_frequency,tfinal):\n",
    "    Ts = 1/sampling_frequency\n",
    "    \n",
    "    ts = np.arange(0,tfinal,Ts)\n",
    "    xs = np.array([angle(omega, t) for t in ts])\n",
    "    \n",
    "    return xs, ts\n",
    "    "
   ]
  },
  {
   "cell_type": "markdown",
   "metadata": {},
   "source": [
    "## Part (a)"
   ]
  },
  {
   "cell_type": "code",
   "execution_count": 7,
   "metadata": {},
   "outputs": [],
   "source": [
    "def normalize(data):\n",
    "    denom = data.max() - data.min()\n",
    "    data = data/denom\n",
    "    \n",
    "    return data"
   ]
  },
  {
   "cell_type": "code",
   "execution_count": 8,
   "metadata": {},
   "outputs": [
    {
     "data": {
      "image/png": "[encoded data removed]",
      "text/plain": [
       "<Figure size 432x288 with 1 Axes>"
      ]
     },
     "metadata": {
      "needs_background": "light"
     },
     "output_type": "display_data"
    }
   ],
   "source": [
    "xs,ts = sampled_angle(omega,sample_freq,tfinal)\n",
    "plt.plot(ts,xs,'o-')\n",
    "plt.show()"
   ]
  },
  {
   "cell_type": "markdown",
   "metadata": {},
   "source": [
    "## Part (b)"
   ]
  },
  {
   "cell_type": "code",
   "execution_count": 9,
   "metadata": {},
   "outputs": [],
   "source": [
    "data = [['time','sampled_data']]\n",
    "for i in range(len(ts)):\n",
    "    data.append([ts[i],xs[i]])\n",
    "\n",
    "with open('data.csv', 'w') as csvFile:\n",
    "    writer = csv.writer(csvFile)\n",
    "    writer.writerows(data)          #entering 'data' as a csv file\n",
    "    \n",
    "csvFile.close()"
   ]
  },
  {
   "cell_type": "markdown",
   "metadata": {},
   "source": [
    "Reading the data from csv file and randomize the data"
   ]
  },
  {
   "cell_type": "code",
   "execution_count": 10,
   "metadata": {},
   "outputs": [
    {
     "name": "stdout",
     "output_type": "stream",
     "text": [
      "<class 'pandas.core.frame.DataFrame'>\n",
      "RangeIndex: 128 entries, 0 to 127\n",
      "Data columns (total 2 columns):\n",
      "time            128 non-null float64\n",
      "sampled_data    128 non-null float64\n",
      "dtypes: float64(2)\n",
      "memory usage: 2.1 KB\n"
     ]
    },
    {
     "data": {
      "text/html": [
       "<div>\n",
       "<style scoped>\n",
       "    .dataframe tbody tr th:only-of-type {\n",
       "        vertical-align: middle;\n",
       "    }\n",
       "\n",
       "    .dataframe tbody tr th {\n",
       "        vertical-align: top;\n",
       "    }\n",
       "\n",
       "    .dataframe thead th {\n",
       "        text-align: right;\n",
       "    }\n",
       "</style>\n",
       "<table border=\"1\" class=\"dataframe\">\n",
       "  <thead>\n",
       "    <tr style=\"text-align: right;\">\n",
       "      <th></th>\n",
       "      <th>time</th>\n",
       "      <th>sampled_data</th>\n",
       "    </tr>\n",
       "  </thead>\n",
       "  <tbody>\n",
       "    <tr>\n",
       "      <th>92</th>\n",
       "      <td>0.718750</td>\n",
       "      <td>2.748894</td>\n",
       "    </tr>\n",
       "    <tr>\n",
       "      <th>36</th>\n",
       "      <td>0.281250</td>\n",
       "      <td>0.392699</td>\n",
       "    </tr>\n",
       "    <tr>\n",
       "      <th>12</th>\n",
       "      <td>0.093750</td>\n",
       "      <td>1.178097</td>\n",
       "    </tr>\n",
       "    <tr>\n",
       "      <th>3</th>\n",
       "      <td>0.023438</td>\n",
       "      <td>0.294524</td>\n",
       "    </tr>\n",
       "    <tr>\n",
       "      <th>30</th>\n",
       "      <td>0.234375</td>\n",
       "      <td>2.945243</td>\n",
       "    </tr>\n",
       "  </tbody>\n",
       "</table>\n",
       "</div>"
      ],
      "text/plain": [
       "        time  sampled_data\n",
       "92  0.718750      2.748894\n",
       "36  0.281250      0.392699\n",
       "12  0.093750      1.178097\n",
       "3   0.023438      0.294524\n",
       "30  0.234375      2.945243"
      ]
     },
     "execution_count": 10,
     "metadata": {},
     "output_type": "execute_result"
    }
   ],
   "source": [
    "data_set = pd.read_csv('data.csv')  #data_set is a dataframe/textparser: A comma-separated values (csv) file is \n",
    "                                    #returned as two-dimensional data structure with labeled axes.\n",
    "\n",
    "#print(data_set)\n",
    "data_set.info(verbose = True)       #information about the dataframe\n",
    "\n",
    "np.random.seed(2)                   \n",
    "data_set = shuffle(data_set)       #randomize the data\n",
    "\n",
    "data_set.head()"
   ]
  },
  {
   "cell_type": "code",
   "execution_count": 11,
   "metadata": {},
   "outputs": [
    {
     "data": {
      "text/plain": [
       "92    0.718750\n",
       "36    0.281250\n",
       "12    0.093750\n",
       "3     0.023438\n",
       "30    0.234375\n",
       "Name: time, dtype: float64"
      ]
     },
     "execution_count": 11,
     "metadata": {},
     "output_type": "execute_result"
    }
   ],
   "source": [
    "x = data_set.time     #we divide them into labels and features (y and x)\n",
    "y = data_set.sampled_data\n",
    "# p = data_set.drop('0.0',axis=1)\n",
    "# print(p)\n",
    "x_train,x_test,y_train,y_test = train_test_split(x,y,train_size=0.079,shuffle = False, stratify = None)\n",
    "x_train.head()"
   ]
  },
  {
   "cell_type": "code",
   "execution_count": 12,
   "metadata": {},
   "outputs": [
    {
     "data": {
      "text/plain": [
       "(10,)"
      ]
     },
     "execution_count": 12,
     "metadata": {},
     "output_type": "execute_result"
    }
   ],
   "source": [
    "x_train.shape"
   ]
  },
  {
   "cell_type": "code",
   "execution_count": 13,
   "metadata": {},
   "outputs": [
    {
     "data": {
      "text/plain": [
       "2      0.015625\n",
       "112    0.875000\n",
       "28     0.218750\n",
       "48     0.375000\n",
       "125    0.976562\n",
       "Name: time, dtype: float64"
      ]
     },
     "execution_count": 13,
     "metadata": {},
     "output_type": "execute_result"
    }
   ],
   "source": [
    "x_test.head()"
   ]
  },
  {
   "cell_type": "code",
   "execution_count": 14,
   "metadata": {},
   "outputs": [
    {
     "data": {
      "text/plain": [
       "(118,)"
      ]
     },
     "execution_count": 14,
     "metadata": {},
     "output_type": "execute_result"
    }
   ],
   "source": [
    "x_test.shape"
   ]
  },
  {
   "cell_type": "code",
   "execution_count": 15,
   "metadata": {},
   "outputs": [
    {
     "data": {
      "image/png": "[encoded data removed]",
      "text/plain": [
       "<Figure size 432x288 with 1 Axes>"
      ]
     },
     "metadata": {
      "needs_background": "light"
     },
     "output_type": "display_data"
    }
   ],
   "source": [
    "plt.plot(x_train,y_train,'o')\n",
    "plt.show()"
   ]
  },
  {
   "cell_type": "code",
   "execution_count": 16,
   "metadata": {},
   "outputs": [
    {
     "name": "stdout",
     "output_type": "stream",
     "text": [
      "   sampled_data\n",
      "0      2.748894\n",
      "1      0.392699\n",
      "2      1.178097\n",
      "3      0.294524\n",
      "4      2.945243\n",
      "       time\n",
      "0  0.718750\n",
      "1  0.281250\n",
      "2  0.093750\n",
      "3  0.023438\n",
      "4  0.234375\n"
     ]
    }
   ],
   "source": [
    "# because of shuffling, the index of the items in the Dataframes has also been randmized\n",
    "# hence we need to reset the indices for future reference\n",
    "y_train = y_train.reset_index()\n",
    "del y_train['index']\n",
    "print(y_train.head())\n",
    "\n",
    "x_train = x_train.reset_index()\n",
    "del x_train['index']\n",
    "print(x_train.head())\n"
   ]
  },
  {
   "cell_type": "code",
   "execution_count": 17,
   "metadata": {},
   "outputs": [
    {
     "name": "stdout",
     "output_type": "stream",
     "text": [
      "   sampled_data\n",
      "0      0.196350\n",
      "1      1.570796\n",
      "2      2.748894\n",
      "3      1.570796\n",
      "4      2.847068\n",
      "       time\n",
      "0  0.015625\n",
      "1  0.875000\n",
      "2  0.218750\n",
      "3  0.375000\n",
      "4  0.976562\n"
     ]
    }
   ],
   "source": [
    "y_test = y_test.reset_index()\n",
    "del y_test['index']\n",
    "print(y_test.head())\n",
    "\n",
    "x_test = x_test.reset_index()\n",
    "del x_test['index']\n",
    "print(x_test.head())\n"
   ]
  },
  {
   "cell_type": "markdown",
   "metadata": {},
   "source": [
    "# Part (c)"
   ]
  },
  {
   "cell_type": "markdown",
   "metadata": {},
   "source": [
    "So, we have our actual output(y_train) and input(x_train) in DataFrame format. We need to make three matrices for optimal weight, with 1*M size."
   ]
  },
  {
   "cell_type": "code",
   "execution_count": 18,
   "metadata": {},
   "outputs": [],
   "source": [
    "M = [5, 11, 20]                   # The size of our model    "
   ]
  },
  {
   "cell_type": "code",
   "execution_count": 19,
   "metadata": {},
   "outputs": [],
   "source": [
    "def generate_phi(training_set,M):\n",
    "    phi = np.zeros([M+1,training_set.size])           #Actual phi matrix should be the transpose of this phi\n",
    "    for i in range(M+1):\n",
    "        for j in range(training_set.size):\n",
    "            temp = training_set.at[j,'time']\n",
    "            phi[i][j] = np.power(temp,i)\n",
    "    phi = phi.T\n",
    "    return phi"
   ]
  },
  {
   "cell_type": "markdown",
   "metadata": {},
   "source": [
    "I am now going to use the direct formula as derived in the class for least square solutions."
   ]
  },
  {
   "cell_type": "code",
   "execution_count": 20,
   "metadata": {},
   "outputs": [],
   "source": [
    "def optimal_weights(phi,actual_output):  \n",
    "    mat = (phi.T).dot(phi)\n",
    "    mat = np.linalg.inv(mat)\n",
    "    mat = mat.dot(phi.T)\n",
    "    mat = mat.dot(actual_output)\n",
    "    return mat\n"
   ]
  },
  {
   "cell_type": "code",
   "execution_count": 21,
   "metadata": {},
   "outputs": [],
   "source": [
    "def optimal_weight_matrix(training_set,actual_training_output,M):\n",
    "    hello = generate_phi(training_set,M)\n",
    "    ankan = optimal_weights(hello,actual_training_output)\n",
    "    return ankan\n"
   ]
  },
  {
   "cell_type": "code",
   "execution_count": 22,
   "metadata": {},
   "outputs": [],
   "source": [
    "def predicted(input_set,w,M):\n",
    "    phi = generate_phi(input_set,M)\n",
    "#     w = optimal_weight_matrix(training_set,actual_training_output,M)\n",
    "    predicted = phi.dot(w)\n",
    "    return predicted\n"
   ]
  },
  {
   "cell_type": "code",
   "execution_count": 23,
   "metadata": {},
   "outputs": [
    {
     "data": {
      "image/png": "[encoded data removed]",
      "text/plain": [
       "<Figure size 432x288 with 1 Axes>"
      ]
     },
     "metadata": {
      "needs_background": "light"
     },
     "output_type": "display_data"
    }
   ],
   "source": [
    "plt.plot(x_train,y_train,'o')\n",
    "plt.title('Training set')\n",
    "plt.ylabel('ATraining output')\n",
    "plt.xlabel('Training Input')\n",
    "plt.show()"
   ]
  },
  {
   "cell_type": "markdown",
   "metadata": {},
   "source": [
    "### Plots for test set"
   ]
  },
  {
   "cell_type": "code",
   "execution_count": 24,
   "metadata": {},
   "outputs": [],
   "source": [
    "### three models for three model sizes\n",
    "\n",
    "w_0 = optimal_weight_matrix(x_train,y_train,M[0])\n",
    "w_1 = optimal_weight_matrix(x_train,y_train,M[1])\n",
    "w_2 = optimal_weight_matrix(x_train,y_train,M[2])\n"
   ]
  },
  {
   "cell_type": "code",
   "execution_count": 28,
   "metadata": {},
   "outputs": [
    {
     "data": {
      "image/png": "[encoded data removed]",
      "text/plain": [
       "<Figure size 432x288 with 1 Axes>"
      ]
     },
     "metadata": {
      "needs_background": "light"
     },
     "output_type": "display_data"
    },
    {
     "data": {
      "image/png": "[encoded data removed]",
      "text/plain": [
       "<Figure size 432x288 with 1 Axes>"
      ]
     },
     "metadata": {
      "needs_background": "light"
     },
     "output_type": "display_data"
    },
    {
     "data": {
      "image/png": "[encoded data removed]",
      "text/plain": [
       "<Figure size 432x288 with 1 Axes>"
      ]
     },
     "metadata": {
      "needs_background": "light"
     },
     "output_type": "display_data"
    },
    {
     "data": {
      "image/png": "[encoded data removed]",
      "text/plain": [
       "<Figure size 432x288 with 1 Axes>"
      ]
     },
     "metadata": {
      "needs_background": "light"
     },
     "output_type": "display_data"
    },
    {
     "data": {
      "image/png": "[encoded data removed]",
      "text/plain": [
       "<Figure size 432x288 with 1 Axes>"
      ]
     },
     "metadata": {
      "needs_background": "light"
     },
     "output_type": "display_data"
    },
    {
     "data": {
      "image/png": "[encoded data removed]",
      "text/plain": [
       "<Figure size 432x288 with 1 Axes>"
      ]
     },
     "metadata": {
      "needs_background": "light"
     },
     "output_type": "display_data"
    }
   ],
   "source": [
    "with PdfPages('plot_c.pdf') as pdf:\n",
    "    train1 = predicted(x_train,w_0,M[0])\n",
    "    plt.plot(x_train,y_train,'yo',x_train,train1,'go')\n",
    "    plt.legend(['Actual','Predicted'])\n",
    "    plt.title('Least Square \\n Train Data, Model Size = 5')\n",
    "    plt.ylabel('Actual and Predicted output')\n",
    "    plt.xlabel('Training Input')\n",
    "    pdf.savefig()\n",
    "    plt.show()\n",
    "\n",
    "    train2 = predicted(x_train,w_1,M[1])\n",
    "    plt.plot(x_train,y_train,'yo',x_train,train2,'go')\n",
    "    plt.legend(['Actual','Predicted'])\n",
    "    plt.title('Least Square \\n Train Data, Model Size = 11')\n",
    "    plt.ylabel('Actual and Predicted output')\n",
    "    plt.xlabel('Training Input')\n",
    "    pdf.savefig()\n",
    "    plt.show()\n",
    "\n",
    "    train3 = predicted(x_train,w_2,M[2])\n",
    "    plt.plot(x_train,y_train,'yo',x_train,train3,'go')\n",
    "    plt.legend(['Actual','Predicted'])\n",
    "    plt.title('Least Square \\n Train Data, Model Size = 20')\n",
    "    plt.ylabel('Actual and Predicted output')\n",
    "    plt.xlabel('Training Input')\n",
    "    pdf.savefig()\n",
    "    plt.show()\n",
    "\n",
    "    \n",
    "    test1 = predicted(x_test,w_0,M[0])\n",
    "    plt.plot(x_test,y_test,'yo',x_test,test1,'go')\n",
    "    plt.legend(['Actual','Predicted'])\n",
    "    plt.title('Least Square \\n Test Data, Model Size = 5')\n",
    "    plt.ylabel('Actual and Predicted output')\n",
    "    plt.xlabel('Test Input')\n",
    "    pdf.savefig()\n",
    "    plt.show()\n",
    "\n",
    "    test2 = predicted(x_test,w_1,M[1])\n",
    "    plt.plot(x_test,y_test,'yo',x_test,test2,'go')\n",
    "    plt.legend(['Actual','Predicted'])\n",
    "    plt.title('Least Square \\n Test Data, Model Size = 11')\n",
    "    plt.ylabel('Actual and Predicted output')\n",
    "    plt.xlabel('Test Input')\n",
    "    pdf.savefig()\n",
    "    plt.show()\n",
    "\n",
    "    test3 = predicted(x_test,w_2,M[2])\n",
    "    plt.plot(x_test,y_test,'yo',x_test,test3,'go')\n",
    "    plt.legend(['Actual','Predicted'])\n",
    "    plt.title('Least Square \\n Test Data, Model Size = 20')\n",
    "    plt.ylabel('Actual and Predicted output')\n",
    "    plt.xlabel('Test Input')\n",
    "    pdf.savefig()\n",
    "    plt.show()\n",
    "    \n"
   ]
  },
  {
   "cell_type": "code",
   "execution_count": null,
   "metadata": {},
   "outputs": [],
   "source": []
  }
 ],
 "metadata": {
  "kernelspec": {
   "display_name": "Python 3",
   "language": "python",
   "name": "python3"
  },
  "language_info": {
   "codemirror_mode": {
    "name": "ipython",
    "version": 3
   },
   "file_extension": ".py",
   "mimetype": "text/x-python",
   "name": "python",
   "nbconvert_exporter": "python",
   "pygments_lexer": "ipython3",
   "version": "3.6.8"
  }
 },
 "nbformat": 4,
 "nbformat_minor": 2
}
